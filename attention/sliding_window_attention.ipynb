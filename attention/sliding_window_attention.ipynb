{
 "cells": [
  {
   "cell_type": "code",
   "execution_count": 1,
   "metadata": {},
   "outputs": [],
   "source": [
    "# https://github.com/hkproj/mistral-llm-notes/blob/main/sliding_window_attention.ipynb"
   ]
  },
  {
   "cell_type": "code",
   "execution_count": 2,
   "metadata": {},
   "outputs": [
    {
     "data": {
      "text/plain": [
       "[{'the'}, {'cat'}, {'is'}, {'on'}, {'a'}, {'chair'}]"
      ]
     },
     "execution_count": 2,
     "metadata": {},
     "output_type": "execute_result"
    }
   ],
   "source": [
    "print_order = ['the', 'cat', 'is', 'on', 'a', 'chair']\n",
    "sequence = [{print_order[i]} for i in range(len(print_order))]\n",
    "sequence"
   ]
  },
  {
   "cell_type": "code",
   "execution_count": 5,
   "metadata": {},
   "outputs": [],
   "source": [
    "sliding_window_size = 3\n",
    "\n",
    "def sliding_window_attention(seq: list[set[str]], w: int):\n",
    "    seq_len = len(seq)\n",
    "    attention_scores: list[list[set]] = [[None for _ in range(seq_len)] for _ in range(seq_len)]\n",
    "    for i, q_tokens_set in enumerate(seq):\n",
    "        for j, k_tokens_set in enumerate(seq):\n",
    "            # The upper triangle is all None\n",
    "            if j > i:\n",
    "                continue\n",
    "            # Each token can only attend to the previous W tokens\n",
    "            if i - j >= w:\n",
    "                continue\n",
    "\n",
    "            attention = set()\n",
    "            # Add all tokens from q_tokens_set to attention_result\n",
    "            attention.update(q_tokens_set)\n",
    "            # Add all tokens from k_tokens_set to attention_resul\n",
    "            attention.update(k_tokens_set)\n",
    "\n",
    "            attention_scores[i][j] = attention\n",
    "    return attention_scores\n",
    "\n",
    "def multiple_by_v(attention_scores: list[list[set]], v_sequence: list[set[str]]) -> list[set[str]]:\n",
    "    seq_len = len(v_sequence)\n",
    "    result = [set() for _ in range(seq_len)]\n",
    "    for i in range(seq_len):\n",
    "        for j in range(seq_len):\n",
    "            attention = attention_scores[i][j]\n",
    "            v = v_sequence[j]\n",
    "            r = result[i]\n",
    "            # Add all the tokens in the attention (if not None) to r\n",
    "            if attention is not None:\n",
    "                # Add all the tokens in v to r\n",
    "                r.update(v)\n",
    "                r.update(attention)\n",
    "    return result\n",
    "\n",
    "def print_attention(attention_scores: list[list[set[str]]]):\n",
    "    for i, row in enumerate(attention_scores):\n",
    "        for j, attention in enumerate(row):\n",
    "            if attention is None:\n",
    "                print('None', end='\\t')\n",
    "            else:\n",
    "                print(f'{sorted(attention, key=lambda x: print_order.index(x))}', end='\\t')\n",
    "        print()\n",
    "\n",
    "def print_sequence(seq: list[set[str]]):\n",
    "    for i, tokens_set in enumerate(seq):\n",
    "        print(f'{i}: {sorted(tokens_set, key=lambda x: print_order.index(x))}')\n",
    "\n",
    "def print_layer(input: list[set[str]], layer_num: int) -> list[set[str]]:\n",
    "    print(f'Layer {layer_num} input:')\n",
    "    print_sequence(input)\n",
    "    attention_scores = sliding_window_attention(input, sliding_window_size)\n",
    "    print()\n",
    "    print(f'Layer {layer_num} attention scores:')\n",
    "    print_attention(attention_scores)\n",
    "    output = multiple_by_v(attention_scores, input)\n",
    "    print()\n",
    "    print(f'Layer {layer_num} output:')\n",
    "    print_sequence(output)\n",
    "    return output"
   ]
  },
  {
   "cell_type": "code",
   "execution_count": 6,
   "metadata": {},
   "outputs": [
    {
     "name": "stdout",
     "output_type": "stream",
     "text": [
      "Layer 1 input:\n",
      "0: ['the']\n",
      "1: ['cat']\n",
      "2: ['is']\n",
      "3: ['on']\n",
      "4: ['a']\n",
      "5: ['chair']\n",
      "\n",
      "Layer 1 attention scores:\n",
      "['the']\tNone\tNone\tNone\tNone\tNone\t\n",
      "['the', 'cat']\t['cat']\tNone\tNone\tNone\tNone\t\n",
      "['the', 'is']\t['cat', 'is']\t['is']\tNone\tNone\tNone\t\n",
      "None\t['cat', 'on']\t['is', 'on']\t['on']\tNone\tNone\t\n",
      "None\tNone\t['is', 'a']\t['on', 'a']\t['a']\tNone\t\n",
      "None\tNone\tNone\t['on', 'chair']\t['a', 'chair']\t['chair']\t\n",
      "\n",
      "Layer 1 output:\n",
      "0: ['the']\n",
      "1: ['the', 'cat']\n",
      "2: ['the', 'cat', 'is']\n",
      "3: ['cat', 'is', 'on']\n",
      "4: ['is', 'on', 'a']\n",
      "5: ['on', 'a', 'chair']\n"
     ]
    }
   ],
   "source": [
    "# layer 1\n",
    "output_layer_1 = print_layer(sequence, 1)"
   ]
  },
  {
   "cell_type": "code",
   "execution_count": 7,
   "metadata": {},
   "outputs": [
    {
     "name": "stdout",
     "output_type": "stream",
     "text": [
      "Layer 2 input:\n",
      "0: ['the']\n",
      "1: ['the', 'cat']\n",
      "2: ['the', 'cat', 'is']\n",
      "3: ['cat', 'is', 'on']\n",
      "4: ['is', 'on', 'a']\n",
      "5: ['on', 'a', 'chair']\n",
      "\n",
      "Layer 2 attention scores:\n",
      "['the']\tNone\tNone\tNone\tNone\tNone\t\n",
      "['the', 'cat']\t['the', 'cat']\tNone\tNone\tNone\tNone\t\n",
      "['the', 'cat', 'is']\t['the', 'cat', 'is']\t['the', 'cat', 'is']\tNone\tNone\tNone\t\n",
      "None\t['the', 'cat', 'is', 'on']\t['the', 'cat', 'is', 'on']\t['cat', 'is', 'on']\tNone\tNone\t\n",
      "None\tNone\t['the', 'cat', 'is', 'on', 'a']\t['cat', 'is', 'on', 'a']\t['is', 'on', 'a']\tNone\t\n",
      "None\tNone\tNone\t['cat', 'is', 'on', 'a', 'chair']\t['is', 'on', 'a', 'chair']\t['on', 'a', 'chair']\t\n",
      "\n",
      "Layer 2 output:\n",
      "0: ['the']\n",
      "1: ['the', 'cat']\n",
      "2: ['the', 'cat', 'is']\n",
      "3: ['the', 'cat', 'is', 'on']\n",
      "4: ['the', 'cat', 'is', 'on', 'a']\n",
      "5: ['cat', 'is', 'on', 'a', 'chair']\n"
     ]
    }
   ],
   "source": [
    "# Layer 2\n",
    "output_layer_2 = print_layer(output_layer_1, 2)"
   ]
  },
  {
   "cell_type": "code",
   "execution_count": 8,
   "metadata": {},
   "outputs": [
    {
     "name": "stdout",
     "output_type": "stream",
     "text": [
      "Layer 3 input:\n",
      "0: ['the']\n",
      "1: ['the', 'cat']\n",
      "2: ['the', 'cat', 'is']\n",
      "3: ['the', 'cat', 'is', 'on']\n",
      "4: ['the', 'cat', 'is', 'on', 'a']\n",
      "5: ['cat', 'is', 'on', 'a', 'chair']\n",
      "\n",
      "Layer 3 attention scores:\n",
      "['the']\tNone\tNone\tNone\tNone\tNone\t\n",
      "['the', 'cat']\t['the', 'cat']\tNone\tNone\tNone\tNone\t\n",
      "['the', 'cat', 'is']\t['the', 'cat', 'is']\t['the', 'cat', 'is']\tNone\tNone\tNone\t\n",
      "None\t['the', 'cat', 'is', 'on']\t['the', 'cat', 'is', 'on']\t['the', 'cat', 'is', 'on']\tNone\tNone\t\n",
      "None\tNone\t['the', 'cat', 'is', 'on', 'a']\t['the', 'cat', 'is', 'on', 'a']\t['the', 'cat', 'is', 'on', 'a']\tNone\t\n",
      "None\tNone\tNone\t['the', 'cat', 'is', 'on', 'a', 'chair']\t['the', 'cat', 'is', 'on', 'a', 'chair']\t['cat', 'is', 'on', 'a', 'chair']\t\n",
      "\n",
      "Layer 3 output:\n",
      "0: ['the']\n",
      "1: ['the', 'cat']\n",
      "2: ['the', 'cat', 'is']\n",
      "3: ['the', 'cat', 'is', 'on']\n",
      "4: ['the', 'cat', 'is', 'on', 'a']\n",
      "5: ['the', 'cat', 'is', 'on', 'a', 'chair']\n"
     ]
    }
   ],
   "source": [
    "# Layer 3\n",
    "output_layer_3 = print_layer(output_layer_2, 3)"
   ]
  },
  {
   "cell_type": "code",
   "execution_count": 9,
   "metadata": {},
   "outputs": [
    {
     "name": "stdout",
     "output_type": "stream",
     "text": [
      "Layer 3 input:\n",
      "0: ['the']\n",
      "1: ['the', 'cat']\n",
      "2: ['the', 'cat', 'is']\n",
      "3: ['the', 'cat', 'is', 'on']\n",
      "4: ['the', 'cat', 'is', 'on', 'a']\n",
      "5: ['cat', 'is', 'on', 'a', 'chair']\n",
      "\n",
      "Layer 3 attention scores:\n",
      "['the']\tNone\tNone\tNone\tNone\tNone\t\n",
      "['the', 'cat']\t['the', 'cat']\tNone\tNone\tNone\tNone\t\n",
      "['the', 'cat', 'is']\t['the', 'cat', 'is']\t['the', 'cat', 'is']\tNone\tNone\tNone\t\n",
      "None\t['the', 'cat', 'is', 'on']\t['the', 'cat', 'is', 'on']\t['the', 'cat', 'is', 'on']\tNone\tNone\t\n",
      "None\tNone\t['the', 'cat', 'is', 'on', 'a']\t['the', 'cat', 'is', 'on', 'a']\t['the', 'cat', 'is', 'on', 'a']\tNone\t\n",
      "None\tNone\tNone\t['the', 'cat', 'is', 'on', 'a', 'chair']\t['the', 'cat', 'is', 'on', 'a', 'chair']\t['cat', 'is', 'on', 'a', 'chair']\t\n",
      "\n",
      "Layer 3 output:\n",
      "0: ['the']\n",
      "1: ['the', 'cat']\n",
      "2: ['the', 'cat', 'is']\n",
      "3: ['the', 'cat', 'is', 'on']\n",
      "4: ['the', 'cat', 'is', 'on', 'a']\n",
      "5: ['the', 'cat', 'is', 'on', 'a', 'chair']\n"
     ]
    }
   ],
   "source": [
    "# Layer 3\n",
    "output_layer_3 = print_layer(output_layer_2, 3)"
   ]
  },
  {
   "cell_type": "code",
   "execution_count": 11,
   "metadata": {},
   "outputs": [
    {
     "name": "stdout",
     "output_type": "stream",
     "text": [
      "Layer 4 input:\n",
      "0: ['the']\n",
      "1: ['the', 'cat']\n",
      "2: ['the', 'cat', 'is']\n",
      "3: ['the', 'cat', 'is', 'on']\n",
      "4: ['the', 'cat', 'is', 'on', 'a']\n",
      "5: ['the', 'cat', 'is', 'on', 'a', 'chair']\n",
      "\n",
      "Layer 4 attention scores:\n",
      "['the']\tNone\tNone\tNone\tNone\tNone\t\n",
      "['the', 'cat']\t['the', 'cat']\tNone\tNone\tNone\tNone\t\n",
      "['the', 'cat', 'is']\t['the', 'cat', 'is']\t['the', 'cat', 'is']\tNone\tNone\tNone\t\n",
      "None\t['the', 'cat', 'is', 'on']\t['the', 'cat', 'is', 'on']\t['the', 'cat', 'is', 'on']\tNone\tNone\t\n",
      "None\tNone\t['the', 'cat', 'is', 'on', 'a']\t['the', 'cat', 'is', 'on', 'a']\t['the', 'cat', 'is', 'on', 'a']\tNone\t\n",
      "None\tNone\tNone\t['the', 'cat', 'is', 'on', 'a', 'chair']\t['the', 'cat', 'is', 'on', 'a', 'chair']\t['the', 'cat', 'is', 'on', 'a', 'chair']\t\n",
      "\n",
      "Layer 4 output:\n",
      "0: ['the']\n",
      "1: ['the', 'cat']\n",
      "2: ['the', 'cat', 'is']\n",
      "3: ['the', 'cat', 'is', 'on']\n",
      "4: ['the', 'cat', 'is', 'on', 'a']\n",
      "5: ['the', 'cat', 'is', 'on', 'a', 'chair']\n"
     ]
    }
   ],
   "source": [
    "\n",
    "# Layer 4\n",
    "output_layer_4 = print_layer(output_layer_3, 4)"
   ]
  },
  {
   "cell_type": "code",
   "execution_count": 12,
   "metadata": {},
   "outputs": [
    {
     "name": "stdout",
     "output_type": "stream",
     "text": [
      "Layer 5 input:\n",
      "0: ['the']\n",
      "1: ['the', 'cat']\n",
      "2: ['the', 'cat', 'is']\n",
      "3: ['the', 'cat', 'is', 'on']\n",
      "4: ['the', 'cat', 'is', 'on', 'a']\n",
      "5: ['the', 'cat', 'is', 'on', 'a', 'chair']\n",
      "\n",
      "Layer 5 attention scores:\n",
      "['the']\tNone\tNone\tNone\tNone\tNone\t\n",
      "['the', 'cat']\t['the', 'cat']\tNone\tNone\tNone\tNone\t\n",
      "['the', 'cat', 'is']\t['the', 'cat', 'is']\t['the', 'cat', 'is']\tNone\tNone\tNone\t\n",
      "None\t['the', 'cat', 'is', 'on']\t['the', 'cat', 'is', 'on']\t['the', 'cat', 'is', 'on']\tNone\tNone\t\n",
      "None\tNone\t['the', 'cat', 'is', 'on', 'a']\t['the', 'cat', 'is', 'on', 'a']\t['the', 'cat', 'is', 'on', 'a']\tNone\t\n",
      "None\tNone\tNone\t['the', 'cat', 'is', 'on', 'a', 'chair']\t['the', 'cat', 'is', 'on', 'a', 'chair']\t['the', 'cat', 'is', 'on', 'a', 'chair']\t\n",
      "\n",
      "Layer 5 output:\n",
      "0: ['the']\n",
      "1: ['the', 'cat']\n",
      "2: ['the', 'cat', 'is']\n",
      "3: ['the', 'cat', 'is', 'on']\n",
      "4: ['the', 'cat', 'is', 'on', 'a']\n",
      "5: ['the', 'cat', 'is', 'on', 'a', 'chair']\n"
     ]
    }
   ],
   "source": [
    "\n",
    "# Layer 5\n",
    "output_layer_5 = print_layer(output_layer_4, 5)"
   ]
  },
  {
   "cell_type": "code",
   "execution_count": null,
   "metadata": {},
   "outputs": [],
   "source": []
  }
 ],
 "metadata": {
  "kernelspec": {
   "display_name": "llm-env",
   "language": "python",
   "name": "llm-env"
  },
  "language_info": {
   "codemirror_mode": {
    "name": "ipython",
    "version": 3
   },
   "file_extension": ".py",
   "mimetype": "text/x-python",
   "name": "python",
   "nbconvert_exporter": "python",
   "pygments_lexer": "ipython3",
   "version": "3.10.0"
  }
 },
 "nbformat": 4,
 "nbformat_minor": 2
}
