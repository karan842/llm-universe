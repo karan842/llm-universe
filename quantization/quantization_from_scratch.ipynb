{
 "cells": [
  {
   "cell_type": "code",
   "execution_count": 3,
   "metadata": {},
   "outputs": [
    {
     "name": "stdout",
     "output_type": "stream",
     "text": [
      "[143.56 -45.88   0.   -18.63  26.27  38.18 -22.46  27.82 -44.88 -13.47\n",
      "  -7.   -26.85  -7.49 131.85 131.71  -3.08  74.83 142.56  90.14  86.44]\n"
     ]
    }
   ],
   "source": [
    "import numpy as np \n",
    "\n",
    "# Suppress scientific notation\n",
    "np.set_printoptions(suppress=True)\n",
    "\n",
    "# Generate randomly distributed parameters\n",
    "params = np.random.uniform(low=-50, high=150, size=20)\n",
    "\n",
    "# mAKE sure important values are at the beginning for better debugging\n",
    "params[0] = params.max() + 1\n",
    "params[1] = params.min() - 1\n",
    "params[2] = 0\n",
    "\n",
    "# Round each number to the second decimal place\n",
    "params = np.round(params, 2)\n",
    "\n",
    "print(params)"
   ]
  },
  {
   "cell_type": "markdown",
   "metadata": {},
   "source": [
    "### Define quantiation methods and quantize"
   ]
  },
  {
   "cell_type": "code",
   "execution_count": 8,
   "metadata": {},
   "outputs": [
    {
     "name": "stdout",
     "output_type": "stream",
     "text": [
      "Original:\n",
      "[143.56 -45.88   0.   -18.63  26.27  38.18 -22.46  27.82 -44.88 -13.47\n",
      "  -7.   -26.85  -7.49 131.85 131.71  -3.08  74.83 142.56  90.14  86.44]\n",
      "\n",
      "Asymmetric scale: 0.7429019607843137, zero: 62.0\n",
      "[255   0  62  37  97 113  32  99   2  44  53  26  52 239 239  58 163 254\n",
      " 183 178]\n",
      "\n",
      "Symmetric scale: 1.1303937007874016\n",
      "[127 -41   0 -16  23  34 -20  25 -40 -12  -6 -24  -7 117 117  -3  66 126\n",
      "  80  76]\n"
     ]
    }
   ],
   "source": [
    "def clamp(params_q: np.array, lower_bound: int, upper_bound: int) -> np.array:\n",
    "    params_q[params_q < lower_bound] = lower_bound\n",
    "    params_q[params_q > upper_bound] = upper_bound\n",
    "    return params_q\n",
    "\n",
    "def asymmetric_quantization(params: np.array, bits: int) -> tuple[np.array, float, int]:\n",
    "    # Calculate the scale and zero point\n",
    "    alpha = np.max(params)\n",
    "    beta = np.min(params)\n",
    "    scale = (alpha - beta) / (2**bits-1)\n",
    "    zero = -1*np.round(beta / scale)\n",
    "    lower_bound, upper_bound = 0, 2**bits-1\n",
    "    # Quantize the parameters\n",
    "    quantized = clamp(np.round(params / scale + zero), lower_bound, upper_bound).astype(np.int32)\n",
    "    return quantized, scale, zero\n",
    "\n",
    "def asymmetric_dequantize(params_q: np.array, scale: float, zero: int) -> np.array:\n",
    "    return (params_q - zero) * scale \n",
    "\n",
    "def symmetric_dequantize(params_q: np.array, scale: float) -> np.array:\n",
    "    return params_q * scale\n",
    "\n",
    "def symmetric_quantization(params: np.array, bits: int) -> tuple[np.array, float]:\n",
    "    # Calculate the scale\n",
    "    alpha = np.max(np.abs(params))\n",
    "    scale = alpha / (2**(bits-1)-1)\n",
    "    lower_bound = -2**(bits-1)\n",
    "    upper_bound = 2**(bits-1)-1\n",
    "    # Quantize the parameters\n",
    "    quantized = clamp(np.round(params / scale), lower_bound, upper_bound).astype(np.int32)\n",
    "    return quantized, scale\n",
    "\n",
    "def quantization_error(params: np.array, params_q: np.array):\n",
    "    # calculate the MSE\n",
    "    return np.mean((params - params_q)**2)\n",
    "\n",
    "(asymmetric_q, asymmetric_scale, asymmetric_zero) = asymmetric_quantization(params, 8)\n",
    "(symmetric_q, symmetric_scale) = symmetric_quantization(params, 8)\n",
    "\n",
    "print(f'Original:')\n",
    "print(np.round(params, 2))\n",
    "print('')\n",
    "print(f'Asymmetric scale: {asymmetric_scale}, zero: {asymmetric_zero}')\n",
    "print(asymmetric_q)\n",
    "print('')\n",
    "print(f'Symmetric scale: {symmetric_scale}')\n",
    "print(symmetric_q)"
   ]
  },
  {
   "cell_type": "code",
   "execution_count": 9,
   "metadata": {},
   "outputs": [
    {
     "name": "stdout",
     "output_type": "stream",
     "text": [
      "Original:\n",
      "[143.56 -45.88   0.   -18.63  26.27  38.18 -22.46  27.82 -44.88 -13.47\n",
      "  -7.   -26.85  -7.49 131.85 131.71  -3.08  74.83 142.56  90.14  86.44]\n",
      "\n",
      "Dequantize Asymmetric:\n",
      "[143.38 -46.06   0.   -18.57  26.    37.89 -22.29  27.49 -44.57 -13.37\n",
      "  -6.69 -26.74  -7.43 131.49 131.49  -2.97  75.03 142.64  89.89  86.18]\n",
      "\n",
      "Dequantize Symmetric:\n",
      "[143.56 -46.35   0.   -18.09  26.    38.43 -22.61  28.26 -45.22 -13.56\n",
      "  -6.78 -27.13  -7.91 132.26 132.26  -3.39  74.61 142.43  90.43  85.91]\n"
     ]
    }
   ],
   "source": [
    "\n",
    "# Dequantize the parameters back to 32 bits\n",
    "params_deq_asymmetric = asymmetric_dequantize(asymmetric_q, asymmetric_scale, asymmetric_zero)\n",
    "params_deq_symmetric = symmetric_dequantize(symmetric_q, symmetric_scale)\n",
    "\n",
    "print(f'Original:')\n",
    "print(np.round(params, 2))\n",
    "print('')\n",
    "print(f'Dequantize Asymmetric:')\n",
    "print(np.round(params_deq_asymmetric,2))\n",
    "print('')\n",
    "print(f'Dequantize Symmetric:')\n",
    "print(np.round(params_deq_symmetric, 2))"
   ]
  },
  {
   "cell_type": "code",
   "execution_count": 10,
   "metadata": {},
   "outputs": [
    {
     "name": "stdout",
     "output_type": "stream",
     "text": [
      "  Asymmetric error: 0.05\n",
      "   Symmetric error: 0.11\n"
     ]
    }
   ],
   "source": [
    "# Calculate the quantization error\n",
    "print(f'{\"Asymmetric error: \":>20}{np.round(quantization_error(params, params_deq_asymmetric), 2)}')\n",
    "print(f'{\"Symmetric error: \":>20}{np.round(quantization_error(params, params_deq_symmetric), 2)}')"
   ]
  },
  {
   "cell_type": "code",
   "execution_count": null,
   "metadata": {},
   "outputs": [],
   "source": []
  }
 ],
 "metadata": {
  "kernelspec": {
   "display_name": "llm-env",
   "language": "python",
   "name": "python3"
  },
  "language_info": {
   "codemirror_mode": {
    "name": "ipython",
    "version": 3
   },
   "file_extension": ".py",
   "mimetype": "text/x-python",
   "name": "python",
   "nbconvert_exporter": "python",
   "pygments_lexer": "ipython3",
   "version": "3.10.0"
  }
 },
 "nbformat": 4,
 "nbformat_minor": 2
}
